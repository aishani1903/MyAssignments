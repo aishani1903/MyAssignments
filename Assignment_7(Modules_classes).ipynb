{
  "cells": [
    {
      "cell_type": "markdown",
      "metadata": {
        "id": "view-in-github",
        "colab_type": "text"
      },
      "source": [
        "<a href=\"https://colab.research.google.com/github/aishani1903/MyAssignments/blob/main/Assignment_7(Modules_classes).ipynb\" target=\"_parent\"><img src=\"https://colab.research.google.com/assets/colab-badge.svg\" alt=\"Open In Colab\"/></a>"
      ]
    },
    {
      "cell_type": "code",
      "execution_count": null,
      "metadata": {
        "colab": {
          "base_uri": "https://localhost:8080/"
        },
        "id": "1bTDrQnV5J2K",
        "outputId": "3ad34a14-8d9b-4bb6-984d-74cc9d39302b"
      },
      "outputs": [
        {
          "name": "stdout",
          "output_type": "stream",
          "text": [
            "78.5\n",
            "31.400000000000002\n"
          ]
        }
      ],
      "source": [
        "class circle():\n",
        "  def __init__(self, r):\n",
        "    self.radius = r\n",
        "\n",
        "  def getArea(self):\n",
        "    return self.radius**2*3.14\n",
        "\n",
        "  def getCircumference(self):\n",
        "    return 2*self.radius*3.14\n",
        "\n",
        "a = circle(5)\n",
        "print(a.getArea())\n",
        "print(a.getCircumference())"
      ]
    },
    {
      "cell_type": "code",
      "execution_count": null,
      "metadata": {
        "colab": {
          "base_uri": "https://localhost:8080/"
        },
        "id": "vB5WZMFl5qpT",
        "outputId": "42f9cd8b-e8a8-417f-bb58-5b2e9f24b200"
      },
      "outputs": [
        {
          "name": "stdout",
          "output_type": "stream",
          "text": [
            "Aishani 3506\n"
          ]
        }
      ],
      "source": [
        "class student():\n",
        "  def __init__(self, name, rollno):\n",
        "    self.name = name\n",
        "    self.rollno = rollno\n",
        "\n",
        "  def display(self):\n",
        "    print(self.name, str(self.rollno))\n",
        "\n",
        "std = student(\"Aishani\", 3506)\n",
        "std.display()"
      ]
    },
    {
      "cell_type": "code",
      "execution_count": null,
      "metadata": {
        "id": "zAnlfasNFD_h"
      },
      "outputs": [],
      "source": [
        "class Temprature():\n",
        "  def  convertFahrenhiet(self,celsius):\n",
        "    return (celsius*(9/5))+32\n",
        "  def convertCelsius(self,farenhiet):\n",
        "    return (farenhiet-32)*(5/9)"
      ]
    },
    {
      "cell_type": "code",
      "execution_count": null,
      "metadata": {
        "colab": {
          "background_save": true,
          "base_uri": "https://localhost:8080/"
        },
        "id": "7IztJYkGdUS5",
        "outputId": "cde5c0ae-c804-46f2-f5fe-2adfd7c2cab2"
      },
      "outputs": [
        {
          "name": "stdout",
          "output_type": "stream",
          "text": [
            "Movie_name-- Inception\n",
            "Artist_name-- Leo\n",
            "Year of releasing-- 2013\n",
            "Ratings-- 5.0\n"
          ]
        }
      ],
      "source": [
        "class MovieDetails:\n",
        "    def __init__(self,Movie_name,Artist_name,YoR,Ratings):\n",
        "        self.Movie_name=Movie_name\n",
        "        self.Artist_name=Artist_name\n",
        "        self.YoR=YoR\n",
        "        self.Ratings=Ratings\n",
        "    def Display(self):\n",
        "        print(\"Movie_name--\",self.Movie_name)\n",
        "        print(\"Artist_name--\",self.Artist_name)\n",
        "        print(\"Year of releasing--\",self.YoR)\n",
        "        print(\"Ratings--\",self.Ratings)\n",
        "    def Update(self):\n",
        "        self.Movie_name=input(\"Enter the name of Movie\")\n",
        "        self.Artist_name=input(\"Enter the name of Artist name\")\n",
        "        self.YOR=int(input(\"Enter the year of Releasing\"))\n",
        "        self.Ratings=float(input(\"Enter the Ratings\"))\n",
        "Movie_name=input(\"Enter the name of Movie\")\n",
        "Artist_name=input(\"Enter the name of Artist name\")\n",
        "YoR=int(input(\"Enter the year of Releasing\"))\n",
        "Ratings=float(input(\"Enter the Ratings\"))\n",
        "obj=MovieDetails(Movie_name,Artist_name,YoR,Ratings)\n",
        "obj.Display()\n",
        "obj.Update()\n",
        "obj.Display()"
      ]
    },
    {
      "cell_type": "code",
      "execution_count": null,
      "metadata": {
        "id": "h2BAEtj0eF9f"
      },
      "outputs": [],
      "source": [
        "class Expenditure:\n",
        "    def __init__(self,exp,save):\n",
        "        self.exp=exp\n",
        "        self.save=save\n",
        "        print(\"Expenditure=\",self.exp)\n",
        "        print(\"Saving=\",self.save)\n",
        "    def total_salary(self):\n",
        "        t=self.exp+self.save\n",
        "        return t\n",
        "    def Display(self,s):\n",
        "        self.s=s\n",
        "        print(\"Total salary is=\",self.s)\n",
        "exp=int(input(\"Enter the Expenditure\"))\n",
        "save=int(input(\"Enter your saving\"))\n",
        "obj=Expenditure(exp,save)\n",
        "a=obj.total_salary()\n",
        "obj.Display(a)"
      ]
    },
    {
      "cell_type": "code",
      "execution_count": null,
      "metadata": {
        "id": "0dlke0tTeTp5"
      },
      "outputs": [],
      "source": [
        ""
      ]
    }
  ],
  "metadata": {
    "colab": {
      "name": "Assignment_7(Modules_classes).ipynb",
      "provenance": [],
      "authorship_tag": "ABX9TyMfM/BhO6hu22e29aEJoCkt",
      "include_colab_link": true
    },
    "kernelspec": {
      "display_name": "Python 3",
      "name": "python3"
    },
    "language_info": {
      "name": "python"
    }
  },
  "nbformat": 4,
  "nbformat_minor": 0
}