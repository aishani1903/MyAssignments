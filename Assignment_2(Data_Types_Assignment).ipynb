{
  "nbformat": 4,
  "nbformat_minor": 0,
  "metadata": {
    "colab": {
      "name": "Assignment_2(Data_Types_Assignment).ipynb",
      "provenance": [],
      "authorship_tag": "ABX9TyMBJZ7EFPSsTH+rxXA8EdYl",
      "include_colab_link": true
    },
    "kernelspec": {
      "name": "python3",
      "display_name": "Python 3"
    },
    "language_info": {
      "name": "python"
    }
  },
  "cells": [
    {
      "cell_type": "markdown",
      "metadata": {
        "id": "view-in-github",
        "colab_type": "text"
      },
      "source": [
        "<a href=\"https://colab.research.google.com/github/aishani1903/MyAssignments/blob/main/Assignment_2(Data_Types_Assignment).ipynb\" target=\"_parent\"><img src=\"https://colab.research.google.com/assets/colab-badge.svg\" alt=\"Open In Colab\"/></a>"
      ]
    },
    {
      "cell_type": "code",
      "metadata": {
        "colab": {
          "base_uri": "https://localhost:8080/"
        },
        "id": "KJ2MxS2PTtjP",
        "outputId": "49339020-fcde-479b-f030-b1c3e9933bb4"
      },
      "source": [
        "print(\"-----Anything-----\")"
      ],
      "execution_count": null,
      "outputs": [
        {
          "output_type": "stream",
          "name": "stdout",
          "text": [
            "-----Anything-----\n"
          ]
        }
      ]
    },
    {
      "cell_type": "code",
      "metadata": {
        "id": "AkAdq2AGT23S"
      },
      "source": [
        "str1 = \"Technology\" \n",
        "str2 = \"for all\""
      ],
      "execution_count": null,
      "outputs": []
    },
    {
      "cell_type": "code",
      "metadata": {
        "colab": {
          "base_uri": "https://localhost:8080/",
          "height": 35
        },
        "id": "JXVVdE_1drzu",
        "outputId": "d90dc8ea-f737-420b-edff-4a59fea20160"
      },
      "source": [
        "str1+ \" \" + str2"
      ],
      "execution_count": null,
      "outputs": [
        {
          "output_type": "execute_result",
          "data": {
            "application/vnd.google.colaboratory.intrinsic+json": {
              "type": "string"
            },
            "text/plain": [
              "'Technology for all'"
            ]
          },
          "metadata": {},
          "execution_count": 5
        }
      ]
    },
    {
      "cell_type": "code",
      "metadata": {
        "colab": {
          "base_uri": "https://localhost:8080/"
        },
        "id": "84CCtI9Wd0dV",
        "outputId": "73fe49c4-d935-4065-c435-fafd4039dc75"
      },
      "source": [
        "num1 = int(input(\"enter a number: \"))\n",
        "num2 = int(input(\"enter a number: \"))\n",
        "num3 = int(input(\"enter a number: \"))"
      ],
      "execution_count": null,
      "outputs": [
        {
          "name": "stdout",
          "output_type": "stream",
          "text": [
            "enter a number: 1\n",
            "enter a number: 2\n",
            "enter a number: 3\n"
          ]
        }
      ]
    },
    {
      "cell_type": "code",
      "metadata": {
        "colab": {
          "base_uri": "https://localhost:8080/"
        },
        "id": "YZJ3-fyoeIEI",
        "outputId": "fd12bc89-8599-4604-87f5-2eb6a3687401"
      },
      "source": [
        "print(\"First number is \", num1)\n",
        "print(\"Second number is \", num2)\n",
        "print(\"Third number is \", num3)"
      ],
      "execution_count": null,
      "outputs": [
        {
          "output_type": "stream",
          "name": "stdout",
          "text": [
            "First number is  1\n",
            "Second number is  2\n",
            "Third number is  3\n"
          ]
        }
      ]
    },
    {
      "cell_type": "code",
      "metadata": {
        "colab": {
          "base_uri": "https://localhost:8080/"
        },
        "id": "V1IUMFGaea9J",
        "outputId": "f428a29f-430b-44ca-d15a-1894fe77d4a7"
      },
      "source": [
        "print(\"Lets Get started\")"
      ],
      "execution_count": null,
      "outputs": [
        {
          "output_type": "stream",
          "name": "stdout",
          "text": [
            "Lets Get started\n"
          ]
        }
      ]
    },
    {
      "cell_type": "code",
      "metadata": {
        "id": "PXsv3_hneyzz"
      },
      "source": [
        "s=\"TFA\" \n",
        "course= \"Python\"\n",
        "fees= 5000"
      ],
      "execution_count": null,
      "outputs": []
    },
    {
      "cell_type": "code",
      "metadata": {
        "colab": {
          "base_uri": "https://localhost:8080/"
        },
        "id": "4Vy4JKqHfX8D",
        "outputId": "281cf97e-b649-4519-bfc2-f342f229abea"
      },
      "source": [
        "print(\"{} {} course costs {}.\".format(s, course, fees))"
      ],
      "execution_count": null,
      "outputs": [
        {
          "output_type": "stream",
          "name": "stdout",
          "text": [
            "TFA Python course costs 5000.\n"
          ]
        }
      ]
    },
    {
      "cell_type": "code",
      "metadata": {
        "colab": {
          "base_uri": "https://localhost:8080/"
        },
        "id": "pU4pqNIdf3FN",
        "outputId": "137f7a61-689c-4eec-a480-f831f52128ee"
      },
      "source": [
        "name=\"Tony Stark\"\n",
        "salary=1000000\n",
        "print(name, salary)"
      ],
      "execution_count": null,
      "outputs": [
        {
          "output_type": "stream",
          "name": "stdout",
          "text": [
            "Tony Stark 1000000\n"
          ]
        }
      ]
    },
    {
      "cell_type": "code",
      "metadata": {
        "colab": {
          "base_uri": "https://localhost:8080/"
        },
        "id": "ZipYOV-vg1KG",
        "outputId": "2a52d91d-50e4-4b61-b151-0704833c8845"
      },
      "source": [
        "list = []\n",
        "\n",
        "n = int(input(\"Enter number of elements : \"))\n",
        " \n",
        "for i in range(0, n):\n",
        "    val = int(input())\n",
        " \n",
        "    list.append(val) \n",
        "print(list)"
      ],
      "execution_count": null,
      "outputs": [
        {
          "output_type": "stream",
          "name": "stdout",
          "text": [
            "Enter number of elements : 4\n",
            "1\n",
            "2\n",
            "3\n",
            "4\n",
            "[1, 2, 3, 4]\n"
          ]
        }
      ]
    },
    {
      "cell_type": "code",
      "metadata": {
        "colab": {
          "base_uri": "https://localhost:8080/"
        },
        "id": "OmESPAE3iPYG",
        "outputId": "865374bf-9e5c-4e01-92a9-14600cb18877"
      },
      "source": [
        "list2 = [\"google\",\"apple\",\"facebook\",\"microsoft\",\"tesla\"]\n",
        "list.append(list2)\n",
        "list"
      ],
      "execution_count": null,
      "outputs": [
        {
          "output_type": "execute_result",
          "data": {
            "text/plain": [
              "[1, 2, 3, 4, ['google', 'apple', 'facebook', 'microsoft', 'tesla']]"
            ]
          },
          "metadata": {},
          "execution_count": 41
        }
      ]
    },
    {
      "cell_type": "code",
      "metadata": {
        "colab": {
          "base_uri": "https://localhost:8080/"
        },
        "id": "jm8mFuyJijWr",
        "outputId": "b0822cce-c362-4fea-954f-921f36e8af97"
      },
      "source": [
        "list2.count(\"google\")"
      ],
      "execution_count": null,
      "outputs": [
        {
          "output_type": "execute_result",
          "data": {
            "text/plain": [
              "1"
            ]
          },
          "metadata": {},
          "execution_count": 42
        }
      ]
    },
    {
      "cell_type": "code",
      "metadata": {
        "colab": {
          "base_uri": "https://localhost:8080/"
        },
        "id": "xJ-iBtd1jX90",
        "outputId": "93dbe20c-521b-48b7-cb30-74ca99b0cf84"
      },
      "source": [
        "numbers = [21,54,23,11,90]\n",
        "sorted(numbers)"
      ],
      "execution_count": null,
      "outputs": [
        {
          "output_type": "execute_result",
          "data": {
            "text/plain": [
              "[11, 21, 23, 54, 90]"
            ]
          },
          "metadata": {},
          "execution_count": 43
        }
      ]
    },
    {
      "cell_type": "code",
      "metadata": {
        "colab": {
          "base_uri": "https://localhost:8080/"
        },
        "id": "2H1nHUFHj8Pf",
        "outputId": "1c6a2801-8fc9-4c3a-f602-a47e14a54048"
      },
      "source": [
        "def Merge(list1, list2):\n",
        "    final_list = list1 + list2\n",
        "    final_list.sort()\n",
        "    return(final_list)\n",
        "  \n",
        "list1 = [55,23,1,54,22]\n",
        "list2 = [65,22,33,12,76]\n",
        "print(Merge(list1, list2))\n"
      ],
      "execution_count": null,
      "outputs": [
        {
          "output_type": "stream",
          "name": "stdout",
          "text": [
            "[1, 12, 22, 22, 23, 33, 54, 55, 65, 76]\n"
          ]
        }
      ]
    },
    {
      "cell_type": "code",
      "metadata": {
        "colab": {
          "base_uri": "https://localhost:8080/"
        },
        "id": "U_DQ94g4kePp",
        "outputId": "e4272341-71b4-447b-f0ed-2240f2616776"
      },
      "source": [
        "stack = [\"ABC\", \"DEF\", \"PQR\"]\n",
        "stack.append(\"XYZ\")\n",
        "stack.append(\"LMN\")\n",
        "print(stack)\n",
        "  \n",
        "# Remove the last item\n",
        "print(stack.pop())\n",
        "  \n",
        "print(stack)\n",
        "  \n",
        "# Remove the last item\n",
        "print(stack.pop())\n",
        "  \n",
        "print(stack)\n"
      ],
      "execution_count": null,
      "outputs": [
        {
          "output_type": "stream",
          "name": "stdout",
          "text": [
            "['ABC', 'DEF', 'PQR', 'XYZ', 'LMN']\n",
            "LMN\n",
            "['ABC', 'DEF', 'PQR', 'XYZ']\n",
            "XYZ\n",
            "['ABC', 'DEF', 'PQR']\n"
          ]
        }
      ]
    },
    {
      "cell_type": "code",
      "metadata": {
        "id": "1LN0dir0k25n"
      },
      "source": [
        ""
      ],
      "execution_count": null,
      "outputs": []
    }
  ]
}