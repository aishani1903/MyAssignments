{
  "nbformat": 4,
  "nbformat_minor": 0,
  "metadata": {
    "colab": {
      "name": "Assignment_5(Functions).ipynb",
      "provenance": [],
      "collapsed_sections": [],
      "authorship_tag": "ABX9TyNtGkMNeJFAD6TvjhYTbixQ",
      "include_colab_link": true
    },
    "kernelspec": {
      "name": "python3",
      "display_name": "Python 3"
    },
    "language_info": {
      "name": "python"
    }
  },
  "cells": [
    {
      "cell_type": "markdown",
      "metadata": {
        "id": "view-in-github",
        "colab_type": "text"
      },
      "source": [
        "<a href=\"https://colab.research.google.com/github/aishani1903/MyAssignments/blob/main/Assignment_5(Functions).ipynb\" target=\"_parent\"><img src=\"https://colab.research.google.com/assets/colab-badge.svg\" alt=\"Open In Colab\"/></a>"
      ]
    },
    {
      "cell_type": "code",
      "metadata": {
        "colab": {
          "base_uri": "https://localhost:8080/"
        },
        "id": "pkkimUP8Xbs4",
        "outputId": "619bc301-0208-441b-b297-15528204e405"
      },
      "source": [
        "#Create a function to calculate the area of a circle by taking the radius from the user\n",
        "def circle(r):\n",
        "  area = 3.14 * r * r\n",
        "  print(area)\n",
        "circle(4)"
      ],
      "execution_count": null,
      "outputs": [
        {
          "output_type": "stream",
          "name": "stdout",
          "text": [
            "50.24\n"
          ]
        }
      ]
    },
    {
      "cell_type": "code",
      "metadata": {
        "colab": {
          "base_uri": "https://localhost:8080/"
        },
        "id": "UV_MgPSZXnlH",
        "outputId": "b05f8a20-8bb8-411f-8c45-00992887e267"
      },
      "source": [
        "#\"Write a function “perfect()” that determines if a parameter number is a perfect number. Use this function in a program that determines and prints all the perfect numbers between 1 and 1000.\\n\",\n",
        "\n",
        "def perfect_number(n):\n",
        "    sum = 0\n",
        "    for x in range(1, n):\n",
        "        if n % x == 0:\n",
        "            sum += x\n",
        "    return sum == n\n",
        "print(perfect_number(6))"
      ],
      "execution_count": null,
      "outputs": [
        {
          "output_type": "stream",
          "name": "stdout",
          "text": [
            "True\n"
          ]
        }
      ]
    },
    {
      "cell_type": "code",
      "metadata": {
        "colab": {
          "base_uri": "https://localhost:8080/"
        },
        "id": "Kc7xMvb6YVx_",
        "outputId": "39bb19bb-e738-4bdb-aed7-08d7ba406a32"
      },
      "source": [
        "#Print multiplication table of 12 using recursion.\n",
        "def Mult_table_num(gven_numb, k):\n",
        "  print(gven_numb, \" X \", k, \" = \", gven_numb * k)\n",
        "  if (k < 10):\n",
        "        Mult_table_num(gven_numb, k + 1)\n",
        "gven_numb = int(input(\"Enter some Random Number = \"))\n",
        "print(\"The Multiplication Table of the above given number \", gven_numb, \":\")\n",
        "Mult_table_num(gven_numb, 1)"
      ],
      "execution_count": null,
      "outputs": [
        {
          "output_type": "stream",
          "name": "stdout",
          "text": [
            "Enter some Random Number = 12\n",
            "The Multiplication Table of the above given number  12 :\n",
            "12  X  1  =  12\n",
            "12  X  2  =  24\n",
            "12  X  3  =  36\n",
            "12  X  4  =  48\n",
            "12  X  5  =  60\n",
            "12  X  6  =  72\n",
            "12  X  7  =  84\n",
            "12  X  8  =  96\n",
            "12  X  9  =  108\n",
            "12  X  10  =  120\n"
          ]
        }
      ]
    },
    {
      "cell_type": "code",
      "metadata": {
        "colab": {
          "base_uri": "https://localhost:8080/"
        },
        "id": "d8X3vPAlZrZf",
        "outputId": "1655df76-569e-420a-81f7-856f40a88c34"
      },
      "source": [
        "#Write a function to calculate power of a number raised to other\n",
        "def power(N, P):\n",
        "    if P == 0:\n",
        "        return 1\n",
        "    elif P == 1:\n",
        "        return N\n",
        "    else:\n",
        "        return (N*power(N, P-1))\n",
        "N = 5\n",
        "P = 2\n",
        "  \n",
        "print(power(N, P))"
      ],
      "execution_count": null,
      "outputs": [
        {
          "output_type": "stream",
          "name": "stdout",
          "text": [
            "25\n"
          ]
        }
      ]
    },
    {
      "cell_type": "code",
      "metadata": {
        "colab": {
          "base_uri": "https://localhost:8080/"
        },
        "id": "CR8P7EqTazj4",
        "outputId": "d1a69daf-e6ee-4728-fcb1-02ac209ef89f"
      },
      "source": [
        "#write a function to find factorial of a number but also store the factorials calculated in a dictionary\n",
        "def recur_factorial(n):\n",
        "   if n == 1:\n",
        "       return n\n",
        "   else:\n",
        "       return n*recur_factorial(n-1)\n",
        "\n",
        "num = 12\n",
        "print(\"The factorial of\", num, \"is\", recur_factorial(num))"
      ],
      "execution_count": null,
      "outputs": [
        {
          "output_type": "stream",
          "name": "stdout",
          "text": [
            "The factorial of 12 is 479001600\n"
          ]
        }
      ]
    },
    {
      "cell_type": "code",
      "metadata": {
        "id": "ZttSp-0ZbCpB"
      },
      "source": [
        ""
      ],
      "execution_count": null,
      "outputs": []
    }
  ]
}