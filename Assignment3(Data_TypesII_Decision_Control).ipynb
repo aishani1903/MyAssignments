{
  "nbformat": 4,
  "nbformat_minor": 0,
  "metadata": {
    "colab": {
      "name": "Assignment3(Data_TypesII_Decision_Control).ipynb",
      "provenance": [],
      "authorship_tag": "ABX9TyMmxSi4m7VAMVoZxUxdqteV",
      "include_colab_link": true
    },
    "kernelspec": {
      "name": "python3",
      "display_name": "Python 3"
    },
    "language_info": {
      "name": "python"
    }
  },
  "cells": [
    {
      "cell_type": "markdown",
      "metadata": {
        "id": "view-in-github",
        "colab_type": "text"
      },
      "source": [
        "<a href=\"https://colab.research.google.com/github/aishani1903/MyAssignments/blob/main/Assignment3(Data_TypesII_Decision_Control).ipynb\" target=\"_parent\"><img src=\"https://colab.research.google.com/assets/colab-badge.svg\" alt=\"Open In Colab\"/></a>"
      ]
    },
    {
      "cell_type": "code",
      "metadata": {
        "colab": {
          "base_uri": "https://localhost:8080/"
        },
        "id": "_66f07yEnEmM",
        "outputId": "c34e52af-63f7-4897-bf35-d55a12584d45"
      },
      "source": [
        "#Create a tuple with different data types\n",
        "tup = (\"tuple\", 1.3, 2, True)\n",
        "print(tup)"
      ],
      "execution_count": null,
      "outputs": [
        {
          "output_type": "stream",
          "name": "stdout",
          "text": [
            "('tuple', 1.3, 2, True)\n"
          ]
        }
      ]
    },
    {
      "cell_type": "code",
      "metadata": {
        "colab": {
          "base_uri": "https://localhost:8080/"
        },
        "id": "t8b5gQAvnJ85",
        "outputId": "fa0555cc-a3e2-42fc-b3ae-2c5a8f9d323c"
      },
      "source": [
        "len(tup)"
      ],
      "execution_count": null,
      "outputs": [
        {
          "output_type": "execute_result",
          "data": {
            "text/plain": [
              "4"
            ]
          },
          "metadata": {},
          "execution_count": 3
        }
      ]
    },
    {
      "cell_type": "code",
      "metadata": {
        "id": "u_IBWdcMnU-_"
      },
      "source": [
        "tupl = (4,3,6,2,9)"
      ],
      "execution_count": null,
      "outputs": []
    },
    {
      "cell_type": "code",
      "metadata": {
        "colab": {
          "base_uri": "https://localhost:8080/"
        },
        "id": "UoDsC9XcnZ7I",
        "outputId": "d2f0b91d-0d3a-4f11-9097-e58f9c783659"
      },
      "source": [
        "max(tupl)"
      ],
      "execution_count": null,
      "outputs": [
        {
          "output_type": "execute_result",
          "data": {
            "text/plain": [
              "9"
            ]
          },
          "metadata": {},
          "execution_count": 6
        }
      ]
    },
    {
      "cell_type": "code",
      "metadata": {
        "colab": {
          "base_uri": "https://localhost:8080/"
        },
        "id": "Hhu_k6gPnh6J",
        "outputId": "9343584d-2faf-47af-efa0-6f7b2e774d7f"
      },
      "source": [
        "min(tupl)"
      ],
      "execution_count": null,
      "outputs": [
        {
          "output_type": "execute_result",
          "data": {
            "text/plain": [
              "2"
            ]
          },
          "metadata": {},
          "execution_count": 7
        }
      ]
    },
    {
      "cell_type": "code",
      "metadata": {
        "colab": {
          "base_uri": "https://localhost:8080/"
        },
        "id": "ZBJ5Pqcmnja5",
        "outputId": "0d705011-f26e-4703-867b-07fa2b53f0eb"
      },
      "source": [
        "def mul(tupl) :\n",
        "     \n",
        "    # Multiply elements one by one\n",
        "    result = 1\n",
        "    for x in tupl:\n",
        "         result = result * x\n",
        "    return result\n",
        "\n",
        "print(mul(tupl))"
      ],
      "execution_count": null,
      "outputs": [
        {
          "output_type": "stream",
          "name": "stdout",
          "text": [
            "1296\n"
          ]
        }
      ]
    },
    {
      "cell_type": "code",
      "metadata": {
        "colab": {
          "base_uri": "https://localhost:8080/"
        },
        "id": "FLjITQfapUGw",
        "outputId": "61bc457c-03c6-4440-9733-230aa836ca94"
      },
      "source": [
        "lst = []\n",
        " \n",
        "# number of elements as input\n",
        "n = int(input(\"Enter number of elements : \"))\n",
        " \n",
        "# iterating till the range\n",
        "for i in range(0, n):\n",
        "    ele = int(input())\n",
        " \n",
        "    lst.append(ele) # adding the element\n",
        "     \n",
        "print(set(lst))"
      ],
      "execution_count": null,
      "outputs": [
        {
          "output_type": "stream",
          "name": "stdout",
          "text": [
            "Enter number of elements : 4\n",
            "21\n",
            "24\n",
            "32\n",
            "23\n",
            "{24, 32, 21, 23}\n"
          ]
        }
      ]
    },
    {
      "cell_type": "code",
      "metadata": {
        "colab": {
          "base_uri": "https://localhost:8080/"
        },
        "id": "niTV0EBDRUSf",
        "outputId": "8ba8c823-e222-4207-8cc3-ee151f9ba646"
      },
      "source": [
        "lst2 = []\n",
        " \n",
        "# number of elements as input\n",
        "n = int(input(\"Enter number of elements : \"))\n",
        " \n",
        "# iterating till the range\n",
        "for i in range(0, n):\n",
        "    ele = int(input())\n",
        " \n",
        "    lst2.append(ele) # adding the element\n",
        "     \n",
        "print(set(lst2))"
      ],
      "execution_count": null,
      "outputs": [
        {
          "output_type": "stream",
          "name": "stdout",
          "text": [
            "Enter number of elements : 4\n",
            "1\n",
            "23\n",
            "44\n",
            "11\n",
            "{1, 11, 44, 23}\n"
          ]
        }
      ]
    },
    {
      "cell_type": "code",
      "metadata": {
        "colab": {
          "base_uri": "https://localhost:8080/"
        },
        "id": "4nxaDmcJTNp9",
        "outputId": "e32a4fbb-4ac0-4095-9fde-ccddd3ef9101"
      },
      "source": [
        "for i in lst:           #Print the result of intersection of two sets.\n",
        "  for j in lst2:\n",
        "    if i == j:\n",
        "      print(i)"
      ],
      "execution_count": null,
      "outputs": [
        {
          "output_type": "stream",
          "name": "stdout",
          "text": [
            "23\n"
          ]
        }
      ]
    },
    {
      "cell_type": "code",
      "metadata": {
        "colab": {
          "base_uri": "https://localhost:8080/"
        },
        "id": "JzG0c0HlUKVN",
        "outputId": "26a58dea-b84c-4e0b-c2e8-3af82ad2d723"
      },
      "source": [
        "if(lst == lst2):        #compare 2 sets\n",
        "  print(\"True\")\n",
        "else:\n",
        "  print(\"False\")"
      ],
      "execution_count": null,
      "outputs": [
        {
          "output_type": "stream",
          "name": "stdout",
          "text": [
            "False\n"
          ]
        }
      ]
    },
    {
      "cell_type": "code",
      "metadata": {
        "id": "AwhA0xMPfxZW"
      },
      "source": [
        "dct = {12:\"ABC\", 17:'XYZ', 19:\"PQR\", 9:\"LMN\", 13:\"OPI\"}"
      ],
      "execution_count": null,
      "outputs": []
    },
    {
      "cell_type": "code",
      "metadata": {
        "colab": {
          "base_uri": "https://localhost:8080/"
        },
        "id": "G26QLHmNjTeM",
        "outputId": "5a934e98-1e1d-4685-da12-8e75badf0f04"
      },
      "source": [
        "marklist = sorted(dct.items(), key=lambda x:x[0])     #Sort the dictionary created in the previous question according to marks.\n",
        "sortdict = dict(marklist)\n",
        "print(sortdict)"
      ],
      "execution_count": null,
      "outputs": [
        {
          "output_type": "stream",
          "name": "stdout",
          "text": [
            "{9: 'LMN', 12: 'ABC', 13: 'OPI', 17: 'XYZ', 19: 'PQR'}\n"
          ]
        }
      ]
    },
    {
      "cell_type": "code",
      "metadata": {
        "colab": {
          "base_uri": "https://localhost:8080/"
        },
        "id": "jUNX9GRgkq3W",
        "outputId": "beec2796-7438-418a-f8aa-f6b6bfbbe3b6"
      },
      "source": [
        "count = {\"M\":0,\"I\":0,\"S\":0,\"P\":0}\n",
        "word = \"MISSISSIPPI\"\n",
        "for i in word:\n",
        "\tif i == \"M\":\n",
        "\t\tcount['M'] = count['M']+1\n",
        "\telif i == \"I\":\n",
        "\t\tcount['I'] = count['I']+1\n",
        "\telif i == \"S\":\n",
        "\t\tcount['S'] = count['S']+1\n",
        "\telif i == \"P\":\n",
        "\t\tcount['P'] = count['P']+1\n",
        "print(count)"
      ],
      "execution_count": null,
      "outputs": [
        {
          "output_type": "stream",
          "name": "stdout",
          "text": [
            "{'M': 1, 'I': 4, 'S': 4, 'P': 2}\n"
          ]
        }
      ]
    },
    {
      "cell_type": "code",
      "metadata": {
        "colab": {
          "base_uri": "https://localhost:8080/"
        },
        "id": "TcoAnmYMlEGm",
        "outputId": "e88273ff-ce99-4e46-c67d-0e455fafb6c4"
      },
      "source": [
        "year = 2021\n",
        "\n",
        "if (year % 4) == 0:\n",
        "   if (year % 100) == 0:\n",
        "       if (year % 400) == 0:\n",
        "           print(\"{0} is a leap year\".format(year))\n",
        "       else:\n",
        "           print(\"{0} is not a leap year\".format(year))\n",
        "   else:\n",
        "       print(\"{0} is a leap year\".format(year))\n",
        "else:\n",
        "   print(\"{0} is not a leap year\".format(year))\n"
      ],
      "execution_count": null,
      "outputs": [
        {
          "output_type": "stream",
          "name": "stdout",
          "text": [
            "2021 is not a leap year\n"
          ]
        }
      ]
    },
    {
      "cell_type": "code",
      "metadata": {
        "colab": {
          "base_uri": "https://localhost:8080/"
        },
        "id": "T8bsYU-SlXOE",
        "outputId": "24a3bbc1-771a-433f-828f-4ae3e032acc0"
      },
      "source": [
        "l=int(input(\"Enter your first number :\"))\n",
        "b=int(input(\"Enter your second number :\"))\n",
        "if l==b:\n",
        "  print(\"Its a square\")\n",
        "else :\n",
        "  print(\"its an rectangle\")"
      ],
      "execution_count": null,
      "outputs": [
        {
          "output_type": "stream",
          "name": "stdout",
          "text": [
            "Enter your first number :3\n",
            "Enter your second number :3\n",
            "Its a square\n"
          ]
        }
      ]
    },
    {
      "cell_type": "code",
      "metadata": {
        "colab": {
          "base_uri": "https://localhost:8080/"
        },
        "id": "twpaYA-7lqyW",
        "outputId": "760acc8b-1eb1-4ffb-89c1-d6739a9e91d7"
      },
      "source": [
        "age1=int(input('enter age1: '))\n",
        "age2=int(input('enter age2: '))\n",
        "age3=int(input('enter age3: '))\n",
        "if age1>age2 and age1>age3:\n",
        "    print(age1,' is oldest')\n",
        "elif age2>age1 and age2>age3:\n",
        "    print(age2,' is oldest')\n",
        "else:\n",
        "    print(age3,' is oldest')\n",
        "if age1<age2 and age1<age3:\n",
        "    print(age1,' is youngest')\n",
        "elif age2<age1 and age2<age3:\n",
        "    print(age2,' is youngest')\n",
        "else:\n",
        "     print(age3,' is youngest')"
      ],
      "execution_count": null,
      "outputs": [
        {
          "output_type": "stream",
          "name": "stdout",
          "text": [
            "enter age1: 13\n",
            "enter age2: 17\n",
            "enter age3: 21\n",
            "21  is oldest\n",
            "13  is youngest\n"
          ]
        }
      ]
    },
    {
      "cell_type": "code",
      "metadata": {
        "colab": {
          "base_uri": "https://localhost:8080/"
        },
        "id": "C3gZtjQumI1n",
        "outputId": "3dc4e28f-75fb-447b-8de1-b5d9f00dfcd7"
      },
      "source": [
        "points = int(input(\"How many points have you earned?: \"))\n",
        "if points >= 160 and points < 201:\n",
        "  print(\"Congratulations! You won chocolate\")\n",
        "elif points >= 140 and points < 160:\n",
        "  print(\"Congratulations! You won book\")\n",
        "elif points >= 85 and points < 140:\n",
        "  print(\"Congratulations! You won wooden dog\")\n",
        "elif points < 85:\n",
        "  print(\"Sorry! No prize this time\")\n",
        "else: \n",
        "  print(\"Invalid entry\")"
      ],
      "execution_count": null,
      "outputs": [
        {
          "output_type": "stream",
          "name": "stdout",
          "text": [
            "How many points have you earned?: 192\n",
            "Congratulations! You won chocolate\n"
          ]
        }
      ]
    },
    {
      "cell_type": "code",
      "metadata": {
        "colab": {
          "base_uri": "https://localhost:8080/"
        },
        "id": "Sm4kSkczn-8v",
        "outputId": "267f7a6a-558b-426c-b0b4-ca80c130dbf8"
      },
      "source": [
        "qty = int(input(\"How much quantity did u purchase?: \"))\n",
        "if qty > 1000:\n",
        "  a = (100*qty)*0.1\n",
        "print(a)"
      ],
      "execution_count": null,
      "outputs": [
        {
          "output_type": "stream",
          "name": "stdout",
          "text": [
            "How much quantity did u purchase?: 1100\n",
            "11000.0\n"
          ]
        }
      ]
    }
  ]
}