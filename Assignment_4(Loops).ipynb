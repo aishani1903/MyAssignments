{
  "nbformat": 4,
  "nbformat_minor": 0,
  "metadata": {
    "colab": {
      "name": "Assignment_4(Loops).ipynb",
      "provenance": [],
      "authorship_tag": "ABX9TyO26T5cA7Wlq1hwoHwKeUE/",
      "include_colab_link": true
    },
    "kernelspec": {
      "name": "python3",
      "display_name": "Python 3"
    },
    "language_info": {
      "name": "python"
    }
  },
  "cells": [
    {
      "cell_type": "markdown",
      "metadata": {
        "id": "view-in-github",
        "colab_type": "text"
      },
      "source": [
        "<a href=\"https://colab.research.google.com/github/aishani1903/MyAssignments/blob/main/Assignment_4(Loops).ipynb\" target=\"_parent\"><img src=\"https://colab.research.google.com/assets/colab-badge.svg\" alt=\"Open In Colab\"/></a>"
      ]
    },
    {
      "cell_type": "code",
      "metadata": {
        "colab": {
          "base_uri": "https://localhost:8080/"
        },
        "id": "icDtDQV_Lrf4",
        "outputId": "35bc07ed-ecc8-46ce-d787-d6de8b7d72a2"
      },
      "source": [
        "a = int(input(\"Enter an integers: \"))\n",
        "a1 = int(input(\"Enter an integers: \"))\n",
        "a2= int(input(\"Enter an integers: \"))\n",
        "a3 = int(input(\"Enter an integers: \"))\n",
        "a4 = int(input(\"Enter an integers: \"))\n",
        "a5 = int(input(\"Enter an integers: \"))\n",
        "a6 = int(input(\"Enter an integers: \"))\n",
        "a7 = int(input(\"Enter an integers: \"))\n",
        "a8 = int(input(\"Enter an integers: \"))\n",
        "a9 = int(input(\"Enter an integers: \"))\n"
      ],
      "execution_count": null,
      "outputs": [
        {
          "name": "stdout",
          "output_type": "stream",
          "text": [
            "Enter an integers: 1\n",
            "Enter an integers: 2\n",
            "Enter an integers: 3\n",
            "Enter an integers: 4\n",
            "Enter an integers: 5\n",
            "Enter an integers: 6\n",
            "Enter an integers: 7\n",
            "Enter an integers: 8\n",
            "Enter an integers: 9\n",
            "Enter an integers: 10\n"
          ]
        }
      ]
    },
    {
      "cell_type": "code",
      "metadata": {
        "colab": {
          "base_uri": "https://localhost:8080/"
        },
        "id": "7vlP5-fwLya7",
        "outputId": "0488bf0d-8579-449e-f3db-42da606c11c3"
      },
      "source": [
        "print(\"Inputed integers are: \",a, a1, a2, a3, a4, a5, a6, a7, a8, a9)\n"
      ],
      "execution_count": null,
      "outputs": [
        {
          "output_type": "stream",
          "name": "stdout",
          "text": [
            "Inputed integers are:  1 2 3 4 5 6 7 8 9 10\n"
          ]
        }
      ]
    },
    {
      "cell_type": "code",
      "metadata": {
        "id": "Gip5zwKNM3fn"
      },
      "source": [
        "i = 10\n",
        "while i <= 10:\n",
        "  print(\"Will run forever\")"
      ],
      "execution_count": null,
      "outputs": []
    },
    {
      "cell_type": "code",
      "metadata": {
        "colab": {
          "base_uri": "https://localhost:8080/"
        },
        "id": "_hebZhQSN-0s",
        "outputId": "893e599b-f748-465e-e475-25f96b993d9d"
      },
      "source": [
        "a = int(input(\"Enter an integers: \"))\n",
        "a1 = int(input(\"Enter an integers: \"))\n",
        "a2= int(input(\"Enter an integers: \"))\n",
        "a3 = int(input(\"Enter an integers: \"))\n",
        "a4 = int(input(\"Enter an integers: \"))\n",
        "a5 = int(input(\"Enter an integers: \"))\n",
        "a6 = int(input(\"Enter an integers: \"))\n",
        "a7 = int(input(\"Enter an integers: \"))\n",
        "a8 = int(input(\"Enter an integers: \"))\n",
        "a9 = int(input(\"Enter an integers: \"))\n",
        "\n",
        "print(a*a)\n",
        "print(a1*a1)\n",
        "print(a2*a2)\n",
        "print(a3*a3)\n",
        "print(a4*a4)\n",
        "print(a5*a5)\n",
        "print(a6*a6)\n",
        "print(a7*a7)\n",
        "print(a8*a8)\n",
        "print(a9*a9)"
      ],
      "execution_count": null,
      "outputs": [
        {
          "output_type": "stream",
          "name": "stdout",
          "text": [
            "Enter an integers: 1\n",
            "Enter an integers: 2\n",
            "Enter an integers: 3\n",
            "Enter an integers: 4\n",
            "Enter an integers: 5\n",
            "Enter an integers: 6\n",
            "Enter an integers: 7\n",
            "Enter an integers: 8\n",
            "Enter an integers: 9\n",
            "Enter an integers: 10\n",
            "1\n",
            "4\n",
            "9\n",
            "16\n",
            "25\n",
            "36\n",
            "49\n",
            "64\n",
            "81\n",
            "100\n"
          ]
        }
      ]
    },
    {
      "cell_type": "code",
      "metadata": {
        "colab": {
          "base_uri": "https://localhost:8080/"
        },
        "id": "gH61Cp6xO0kF",
        "outputId": "9d0cb222-787e-4ad9-8e47-20b312d53533"
      },
      "source": [
        "w=['abc', 5, 8.1, 'prq']\n",
        "x=[\"Int: \"]\n",
        "y=[\"Float: \"]\n",
        "z=[\"Str: \"]\n",
        "\n",
        "for i in w:\n",
        "    if type(i)==int:\n",
        "        x.append(i)\n",
        "        \n",
        "    elif type(i)==float:\n",
        "        y.append(i)\n",
        "    elif type(i)==str:\n",
        "        z.append(i)\n",
        "print(x)\n",
        "print(y)\n",
        "print(z)"
      ],
      "execution_count": null,
      "outputs": [
        {
          "output_type": "stream",
          "name": "stdout",
          "text": [
            "['Int: ', 5]\n",
            "['Float: ', 8.1]\n",
            "['Str: ', 'abc', 'prq']\n"
          ]
        }
      ]
    },
    {
      "cell_type": "code",
      "metadata": {
        "colab": {
          "base_uri": "https://localhost:8080/"
        },
        "id": "Qlga_VM8R0cI",
        "outputId": "9693de0b-90f9-4a75-e3a5-7d4d51b7c2a5"
      },
      "source": [
        "even = []\n",
        "odd = []\n",
        "for i in range(1,101):\n",
        "  if i%2==0:\n",
        "    even.append(i)\n",
        "  else:\n",
        "    odd.append(i)\n",
        "print(\"Odd: \",odd)\n",
        "print(\"Even: \",even)"
      ],
      "execution_count": null,
      "outputs": [
        {
          "output_type": "stream",
          "name": "stdout",
          "text": [
            "Odd:  [1, 3, 5, 7, 9, 11, 13, 15, 17, 19, 21, 23, 25, 27, 29, 31, 33, 35, 37, 39, 41, 43, 45, 47, 49, 51, 53, 55, 57, 59, 61, 63, 65, 67, 69, 71, 73, 75, 77, 79, 81, 83, 85, 87, 89, 91, 93, 95, 97, 99]\n",
            "Even:  [2, 4, 6, 8, 10, 12, 14, 16, 18, 20, 22, 24, 26, 28, 30, 32, 34, 36, 38, 40, 42, 44, 46, 48, 50, 52, 54, 56, 58, 60, 62, 64, 66, 68, 70, 72, 74, 76, 78, 80, 82, 84, 86, 88, 90, 92, 94, 96, 98, 100]\n"
          ]
        }
      ]
    },
    {
      "cell_type": "code",
      "metadata": {
        "colab": {
          "base_uri": "https://localhost:8080/"
        },
        "id": "54Tr2n61TW-W",
        "outputId": "5ad5cc1c-7514-42a3-def9-d42519048db5"
      },
      "source": [
        "n = 4\n",
        " \n",
        "i = 1\n",
        "while i <= n :\n",
        "    j = 1\n",
        "    while j <= i:\n",
        "        print(\"*\", end = \" \")\n",
        "        j += 1\n",
        "    print()\n",
        "    i += 1"
      ],
      "execution_count": null,
      "outputs": [
        {
          "output_type": "stream",
          "name": "stdout",
          "text": [
            "* \n",
            "* * \n",
            "* * * \n",
            "* * * * \n"
          ]
        }
      ]
    },
    {
      "cell_type": "code",
      "metadata": {
        "colab": {
          "base_uri": "https://localhost:8080/"
        },
        "id": "j1J9ClVNUeCM",
        "outputId": "de55962d-9065-4e12-d1c5-83000fe5ee75"
      },
      "source": [
        "d={}\n",
        "k=input(\"key: \")\n",
        "v=input(\"value: \")\n",
        "d[k]=v\n",
        "print(d)"
      ],
      "execution_count": null,
      "outputs": [
        {
          "output_type": "stream",
          "name": "stdout",
          "text": [
            "key: aishani\n",
            "value: 1\n",
            "{'aishani': '1'}\n"
          ]
        }
      ]
    },
    {
      "cell_type": "code",
      "metadata": {
        "colab": {
          "base_uri": "https://localhost:8080/"
        },
        "id": "tv7P3FBKVKoy",
        "outputId": "485ee22a-fe43-427a-df25-aa42e0802e61"
      },
      "source": [
        "lst = []\n",
        "n = int(input(\"Enter number of elements : \"))\n",
        "for i in range(0, n):\n",
        "    ele = int(input())\n",
        "    lst.append(ele) \n",
        "print(lst)\n",
        "\n",
        "a = int(input(\"enter an element to search in list: \"))\n",
        "if a in lst:\n",
        "  lst.remove(a)\n",
        "\n",
        "print(\"New list: \", lst)\n"
      ],
      "execution_count": null,
      "outputs": [
        {
          "output_type": "stream",
          "name": "stdout",
          "text": [
            "Enter number of elements : 6\n",
            "1\n",
            "2\n",
            "3\n",
            "4\n",
            "5\n",
            "6\n",
            "[1, 2, 3, 4, 5, 6]\n",
            "enter an element to search in list: 3\n",
            "New list:  [1, 2, 4, 5, 6]\n"
          ]
        }
      ]
    },
    {
      "cell_type": "code",
      "metadata": {
        "id": "e6LhCLCKWf81"
      },
      "source": [
        ""
      ],
      "execution_count": null,
      "outputs": []
    }
  ]
}